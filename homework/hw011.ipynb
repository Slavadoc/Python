{
 "cells": [
  {
   "cell_type": "markdown",
   "id": "b711a2c5",
   "metadata": {},
   "source": [
    "f(x) = -12x^4*sin(cos(x)) - 18x^3+5x^2 + 10x - 30\n",
    "\n",
    "# f(x)=-5x**2+10x+150\n",
    "\n",
    "    Определить корни\n",
    "\n",
    "    Найти интервалы, на которых функция возрастает\n",
    "\n",
    "    Найти интервалы, на которых функция убывает\n",
    "\n",
    "    Построить график\n",
    "\n",
    "    Вычислить вершину\n",
    "\n",
    "    Определить промежутки, на котором f > 0\n",
    "\n",
    "    Определить промежутки, на котором f < 0\n",
    "\n"
   ]
  },
  {
   "cell_type": "markdown",
   "id": "b7c4987f",
   "metadata": {},
   "source": [
    "# Корни функции\n",
    "значение агрумента при котором значение функций равно нулю"
   ]
  },
  {
   "cell_type": "code",
   "execution_count": 58,
   "id": "bdac879e",
   "metadata": {},
   "outputs": [],
   "source": [
    "from math import *\n",
    "#from sympy import *"
   ]
  },
  {
   "cell_type": "code",
   "execution_count": 59,
   "id": "d8dfbca4",
   "metadata": {},
   "outputs": [],
   "source": [
    "def solve1(a, b, c):\n",
    "    d = b**2 - 4*a*c\n",
    "    if d >= 0:\n",
    "        x1 = (-b + sqrt(d)) / (2 * a)\n",
    "        x2 = (-b - sqrt(d)) / (2 * a)\n",
    "        return x1,x2\n",
    "    else:\n",
    "        print('Вещественdных корней нет')"
   ]
  },
  {
   "cell_type": "code",
   "execution_count": 60,
   "id": "1c294c5a",
   "metadata": {},
   "outputs": [
    {
     "data": {
      "text/plain": [
       "(-4.5677643628300215, 6.5677643628300215)"
      ]
     },
     "execution_count": 60,
     "metadata": {},
     "output_type": "execute_result"
    }
   ],
   "source": [
    "solve1(-5, 10, 150)"
   ]
  },
  {
   "cell_type": "markdown",
   "id": "de4690f6",
   "metadata": {},
   "source": [
    "##  Построить график"
   ]
  },
  {
   "cell_type": "code",
   "execution_count": 62,
   "id": "54147734",
   "metadata": {},
   "outputs": [],
   "source": [
    "from sympy import *\n",
    "import matplotlib.pyplot as plt\n",
    "from sympy.plotting import plot"
   ]
  },
  {
   "cell_type": "code",
   "execution_count": 63,
   "id": "c4fc9480",
   "metadata": {},
   "outputs": [],
   "source": [
    "#f(x)=-5x**2+10x+150\n",
    "x = Symbol('x')# симвоьное представление в формуле "
   ]
  },
  {
   "cell_type": "code",
   "execution_count": 64,
   "id": "4b358ae1",
   "metadata": {},
   "outputs": [],
   "source": [
    "y = -5*x**2 + 10*x +150"
   ]
  },
  {
   "cell_type": "code",
   "execution_count": 65,
   "id": "2bca534e",
   "metadata": {},
   "outputs": [
    {
     "data": {
      "text/latex": [
       "$\\displaystyle - 5 x^{2} + 10 x + 150$"
      ],
      "text/plain": [
       "-5*x**2 + 10*x + 150"
      ]
     },
     "execution_count": 65,
     "metadata": {},
     "output_type": "execute_result"
    }
   ],
   "source": [
    "y"
   ]
  },
  {
   "cell_type": "code",
   "execution_count": 66,
   "id": "7d15712c",
   "metadata": {},
   "outputs": [
    {
     "data": {
      "image/png": "[encoded data removed]",
      "text/plain": [
       "<Figure size 640x480 with 1 Axes>"
      ]
     },
     "metadata": {},
     "output_type": "display_data"
    },
    {
     "name": "stdout",
     "output_type": "stream",
     "text": [
      "-5*x**2 + 10*x + 150\n"
     ]
    }
   ],
   "source": [
    "p = plot(y,(x , -20, 20), show = True)\n",
    "print(y)"
   ]
  },
  {
   "cell_type": "markdown",
   "id": "cd9937d4",
   "metadata": {},
   "source": [
    "## Вычислить вершину"
   ]
  },
  {
   "cell_type": "markdown",
   "id": "982ee951",
   "metadata": {},
   "source": [
    "мы вычисляем вершины праболы ?"
   ]
  },
  {
   "cell_type": "markdown",
   "id": "04bdc74a",
   "metadata": {},
   "source": [
    "x0 = -b / 2a = -10 / 2 * -5 = -10 / -10 = 1"
   ]
  },
  {
   "cell_type": "code",
   "execution_count": 67,
   "id": "f3445ee8",
   "metadata": {},
   "outputs": [
    {
     "data": {
      "text/plain": [
       "[1]"
      ]
     },
     "execution_count": 67,
     "metadata": {},
     "output_type": "execute_result"
    }
   ],
   "source": [
    "solve(diff(y))"
   ]
  },
  {
   "cell_type": "markdown",
   "id": "18fca16e",
   "metadata": {},
   "source": [
    "## Определить промежутки, на котором f > 0"
   ]
  },
  {
   "cell_type": "code",
   "execution_count": 71,
   "id": "49209183",
   "metadata": {},
   "outputs": [
    {
     "data": {
      "text/latex": [
       "$\\displaystyle x < 1 + \\sqrt{31} \\wedge 1 - \\sqrt{31} < x$"
      ],
      "text/plain": [
       "(x < 1 + sqrt(31)) & (1 - sqrt(31) < x)"
      ]
     },
     "execution_count": 71,
     "metadata": {},
     "output_type": "execute_result"
    }
   ],
   "source": [
    "solve(y > 0)"
   ]
  },
  {
   "cell_type": "markdown",
   "id": "bbc51eba",
   "metadata": {},
   "source": [
    "##  Определить промежутки, на котором f < 0"
   ]
  },
  {
   "cell_type": "code",
   "execution_count": 74,
   "id": "68f74548",
   "metadata": {},
   "outputs": [
    {
     "data": {
      "text/latex": [
       "$\\displaystyle \\left(-\\infty < x \\wedge x < 1 - \\sqrt{31}\\right) \\vee \\left(x < \\infty \\wedge 1 + \\sqrt{31} < x\\right)$"
      ],
      "text/plain": [
       "((x < oo) & (1 + sqrt(31) < x)) | ((-oo < x) & (x < 1 - sqrt(31)))"
      ]
     },
     "execution_count": 74,
     "metadata": {},
     "output_type": "execute_result"
    }
   ],
   "source": [
    "solve(y < 0)"
   ]
  },
  {
   "cell_type": "markdown",
   "id": "1535b351",
   "metadata": {},
   "source": [
    "## Найти интервалы, на которых функция возрастает"
   ]
  },
  {
   "cell_type": "code",
   "execution_count": 75,
   "id": "e602abcd",
   "metadata": {},
   "outputs": [
    {
     "data": {
      "text/latex": [
       "$\\displaystyle -\\infty < x \\wedge x < 1$"
      ],
      "text/plain": [
       "(-oo < x) & (x < 1)"
      ]
     },
     "execution_count": 75,
     "metadata": {},
     "output_type": "execute_result"
    }
   ],
   "source": [
    "solve(diff(y) > 0)"
   ]
  },
  {
   "cell_type": "markdown",
   "id": "c6c2d42a",
   "metadata": {},
   "source": [
    "## Найти интервалы, на которых функция убывает"
   ]
  },
  {
   "cell_type": "code",
   "execution_count": 76,
   "id": "229e14ac",
   "metadata": {},
   "outputs": [
    {
     "data": {
      "text/latex": [
       "$\\displaystyle 1 < x \\wedge x < \\infty$"
      ],
      "text/plain": [
       "(1 < x) & (x < oo)"
      ]
     },
     "execution_count": 76,
     "metadata": {},
     "output_type": "execute_result"
    }
   ],
   "source": [
    "solve(diff(y) < 0)"
   ]
  }
 ],
 "metadata": {
  "kernelspec": {
   "display_name": "Python 3 (ipykernel)",
   "language": "python",
   "name": "python3"
  },
  "language_info": {
   "codemirror_mode": {
    "name": "ipython",
    "version": 3
   },
   "file_extension": ".py",
   "mimetype": "text/x-python",
   "name": "python",
   "nbconvert_exporter": "python",
   "pygments_lexer": "ipython3",
   "version": "3.9.13"
  }
 },
 "nbformat": 4,
 "nbformat_minor": 5
}
